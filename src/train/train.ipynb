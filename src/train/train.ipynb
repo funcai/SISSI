{
 "cells": [
  {
   "cell_type": "code",
   "execution_count": 1,
   "metadata": {},
   "outputs": [],
   "source": [
    "import pandas as pd\n",
    "import numpy as np\n",
    "from sklearn.model_selection import train_test_split\n",
    "from sklearn.svm import LinearSVC\n",
    "from preprocessor import Preprocessor\n",
    "import random\n",
    "import os\n",
    "import matplotlib.pyplot as plt\n",
    "import tensorflow as tf\n",
    "from itertools import combinations"
   ]
  },
  {
   "cell_type": "code",
   "execution_count": 2,
   "metadata": {},
   "outputs": [],
   "source": [
    "train_preprocessor = Preprocessor()\n",
    "\n",
    "raw_data = pd.read_csv(\"../../data/wikipedia.csv\")\n",
    "# clean out where text is NaN\n",
    "raw_data = raw_data[raw_data.text.notna()]"
   ]
  },
  {
   "cell_type": "code",
   "execution_count": 33,
   "metadata": {},
   "outputs": [],
   "source": [
    "x = []\n",
    "y = []\n",
    "for row in raw_data.text:\n",
    "    # get words TODO only relevant words\n",
    "    words = train_preprocessor.normalize_words(row)\n",
    "\n",
    "    for (a, b) in combinations(words,2):\n",
    "        x.append(a)\n",
    "        y.append(b)"
   ]
  },
  {
   "cell_type": "code",
   "execution_count": 36,
   "metadata": {},
   "outputs": [
    {
     "output_type": "execute_result",
     "data": {
      "text/plain": [
       "53772"
      ]
     },
     "metadata": {},
     "execution_count": 36
    }
   ],
   "source": [
    "len(x)"
   ]
  },
  {
   "cell_type": "code",
   "execution_count": 37,
   "metadata": {},
   "outputs": [],
   "source": [
    "features = tf.constant(x, shape=(1,len(x),300))\n",
    "\n",
    "labels = tf.constant(y, shape=(1,len(y),300))\n",
    "\n",
    "#train_dataset = tf.data.Dataset.from_tensor_slices((features,labels))\n",
    "features_dataset = tf.data.Dataset.from_tensor_slices(features)\n",
    "labels_dataset = tf.data.Dataset.from_tensor_slices(labels)\n",
    "\n",
    "train_dataset = tf.data.Dataset.zip((features_dataset, labels_dataset))"
   ]
  },
  {
   "cell_type": "code",
   "execution_count": 21,
   "metadata": {},
   "outputs": [
    {
     "output_type": "execute_result",
     "data": {
      "text/plain": [
       "<ZipDataset shapes: ((91, 300), (91, 300)), types: (tf.float32, tf.float32)>"
      ]
     },
     "metadata": {},
     "execution_count": 21
    }
   ],
   "source": [
    "train_dataset"
   ]
  },
  {
   "cell_type": "code",
   "execution_count": 38,
   "metadata": {},
   "outputs": [],
   "source": [
    "model = tf.keras.Sequential([\n",
    "  tf.keras.layers.Dense(100, activation=tf.nn.relu, input_shape=(300,)),\n",
    "  # tf.keras.layers.Dense(1000, activation=tf.nn.relu),\n",
    "  tf.keras.layers.Dense(100, activation=tf.nn.relu),\n",
    "  tf.keras.layers.Dense(300)\n",
    "])"
   ]
  },
  {
   "cell_type": "code",
   "execution_count": 27,
   "metadata": {},
   "outputs": [],
   "source": [
    "loss_object = tf.keras.losses.MeanSquaredError()\n",
    "\n",
    "# def get_random_result(label, labels, predictions, predictions_cache):\n",
    "#   label = label[0]\n",
    "#   # TODO: Check if the index of the x value we are testing is not exactly the same as the one we are returning as y\n",
    "#   if(label not in predictions_cache):\n",
    "#     predictions_cache[label] = []\n",
    "#     for idx2, value in enumerate(labels.numpy()):\n",
    "#         if(value == label):\n",
    "#             predictions_cache[label].append(predictions[idx2])\n",
    "#   return predictions_cache[label][random.randint(0,len(predictions_cache[label])-1)]\n",
    "\n",
    "# def get_new_y(predictions, labels):\n",
    "#   predictions_cache = {}\n",
    "#   new_y = []\n",
    "#   for idx, val in enumerate(predictions.numpy()):\n",
    "#       label = labels[idx].numpy()\n",
    "#       new_y.append(get_random_result(label, labels, predictions, predictions_cache))\n",
    "#   return new_y\n",
    "\n",
    "def loss(model, x, y, training):\n",
    "  # training=training is needed only if there are layers with different\n",
    "  # behavior during training versus inference (e.g. Dropout).\n",
    "  y_ = model(x, training=training)\n",
    "  #new_y = get_new_y(y_, y)\n",
    "\n",
    "  return loss_object(y_true=y, y_pred=y_)\n",
    "\n",
    "def grad(model, inputs, targets):\n",
    "  with tf.GradientTape() as tape:\n",
    "    loss_value = loss(model, inputs, targets, training=True)\n",
    "  return loss_value, tape.gradient(loss_value, model.trainable_variables)"
   ]
  },
  {
   "cell_type": "code",
   "execution_count": 28,
   "metadata": {},
   "outputs": [],
   "source": [
    "optimizer = tf.keras.optimizers.SGD(learning_rate=0.01)"
   ]
  },
  {
   "cell_type": "code",
   "execution_count": 40,
   "metadata": {
    "tags": []
   },
   "outputs": [
    {
     "output_type": "stream",
     "name": "stdout",
     "text": [
      "Epoch 000: Loss: 11.165, MAE: 2.1, time: 1.02741194\n",
      "Epoch 001: Loss: 11.129, MAE: 2.1, time: 0.84673786\n",
      "Epoch 002: Loss: 11.097, MAE: 2.09, time: 0.84185958\n",
      "Epoch 003: Loss: 11.069, MAE: 2.09, time: 0.84808397\n",
      "Epoch 004: Loss: 11.043, MAE: 2.08, time: 1.04802966\n",
      "Epoch 005: Loss: 11.019, MAE: 2.08, time: 0.83689475\n",
      "Epoch 006: Loss: 10.998, MAE: 2.07, time: 0.84041691\n",
      "Epoch 007: Loss: 10.979, MAE: 2.07, time: 0.79074359\n",
      "Epoch 008: Loss: 10.961, MAE: 2.07, time: 0.75465703\n",
      "Epoch 009: Loss: 10.944, MAE: 2.06, time: 0.93554473\n",
      "Epoch 010: Loss: 10.928, MAE: 2.06, time: 0.92920852\n",
      "Epoch 011: Loss: 10.914, MAE: 2.06, time: 0.85919714\n",
      "Epoch 012: Loss: 10.900, MAE: 2.05, time: 0.87337899\n",
      "Epoch 013: Loss: 10.888, MAE: 2.05, time: 0.78520656\n",
      "Epoch 014: Loss: 10.876, MAE: 2.05, time: 0.82922959\n",
      "Epoch 015: Loss: 10.864, MAE: 2.05, time: 0.88866067\n",
      "Epoch 016: Loss: 10.854, MAE: 2.05, time: 0.75307798\n",
      "Epoch 017: Loss: 10.844, MAE: 2.04, time: 0.75432181\n",
      "Epoch 018: Loss: 10.834, MAE: 2.04, time: 0.78356433\n",
      "Epoch 019: Loss: 10.825, MAE: 2.04, time: 0.81379199\n",
      "Epoch 020: Loss: 10.817, MAE: 2.04, time: 0.85879469\n",
      "Epoch 021: Loss: 10.809, MAE: 2.04, time: 0.79372263\n",
      "Epoch 022: Loss: 10.801, MAE: 2.04, time: 0.81969380\n",
      "Epoch 023: Loss: 10.793, MAE: 2.03, time: 0.86834884\n",
      "Epoch 024: Loss: 10.786, MAE: 2.03, time: 0.76370239\n",
      "Epoch 025: Loss: 10.779, MAE: 2.03, time: 0.81158066\n",
      "Epoch 026: Loss: 10.773, MAE: 2.03, time: 0.73570609\n",
      "Epoch 027: Loss: 10.767, MAE: 2.03, time: 0.83761454\n",
      "Epoch 028: Loss: 10.761, MAE: 2.03, time: 0.69894099\n",
      "Epoch 029: Loss: 10.755, MAE: 2.03, time: 0.93679810\n",
      "Epoch 030: Loss: 10.749, MAE: 2.03, time: 0.82386971\n",
      "Epoch 031: Loss: 10.743, MAE: 2.03, time: 0.78076053\n",
      "Epoch 032: Loss: 10.738, MAE: 2.03, time: 0.84046674\n",
      "Epoch 033: Loss: 10.733, MAE: 2.03, time: 0.93712306\n",
      "Epoch 034: Loss: 10.728, MAE: 2.02, time: 0.85657382\n",
      "Epoch 035: Loss: 10.723, MAE: 2.02, time: 1.06966662\n",
      "Epoch 036: Loss: 10.718, MAE: 2.02, time: 0.87746024\n",
      "Epoch 037: Loss: 10.713, MAE: 2.02, time: 0.92289853\n",
      "Epoch 038: Loss: 10.709, MAE: 2.02, time: 0.95173717\n",
      "Epoch 039: Loss: 10.704, MAE: 2.02, time: 0.95845890\n",
      "Epoch 040: Loss: 10.700, MAE: 2.02, time: 0.75881076\n",
      "Epoch 041: Loss: 10.695, MAE: 2.02, time: 0.84634066\n",
      "Epoch 042: Loss: 10.691, MAE: 2.02, time: 0.83163929\n",
      "Epoch 043: Loss: 10.687, MAE: 2.02, time: 0.76865530\n",
      "Epoch 044: Loss: 10.683, MAE: 2.02, time: 0.86259842\n",
      "Epoch 045: Loss: 10.678, MAE: 2.02, time: 0.82269025\n",
      "Epoch 046: Loss: 10.674, MAE: 2.02, time: 0.85045910\n",
      "Epoch 047: Loss: 10.670, MAE: 2.02, time: 0.67723870\n",
      "Epoch 048: Loss: 10.666, MAE: 2.02, time: 0.76563478\n",
      "Epoch 049: Loss: 10.662, MAE: 2.02, time: 0.80222106\n",
      "Epoch 050: Loss: 10.658, MAE: 2.02, time: 0.76940703\n",
      "Epoch 051: Loss: 10.655, MAE: 2.02, time: 0.74493814\n",
      "Epoch 052: Loss: 10.651, MAE: 2.02, time: 0.86240029\n",
      "Epoch 053: Loss: 10.647, MAE: 2.02, time: 0.92271233\n",
      "Epoch 054: Loss: 10.644, MAE: 2.02, time: 0.85992694\n",
      "Epoch 055: Loss: 10.640, MAE: 2.02, time: 0.77004290\n",
      "Epoch 056: Loss: 10.636, MAE: 2.02, time: 0.71802068\n",
      "Epoch 057: Loss: 10.633, MAE: 2.02, time: 0.87317538\n",
      "Epoch 058: Loss: 10.629, MAE: 2.02, time: 0.78617144\n",
      "Epoch 059: Loss: 10.626, MAE: 2.02, time: 0.79421043\n",
      "Epoch 060: Loss: 10.622, MAE: 2.01, time: 0.90489078\n",
      "Epoch 061: Loss: 10.619, MAE: 2.01, time: 0.87135243\n",
      "Epoch 062: Loss: 10.616, MAE: 2.01, time: 0.84382796\n",
      "Epoch 063: Loss: 10.612, MAE: 2.01, time: 0.77669644\n",
      "Epoch 064: Loss: 10.609, MAE: 2.01, time: 0.84066153\n",
      "Epoch 065: Loss: 10.606, MAE: 2.01, time: 0.87306237\n",
      "Epoch 066: Loss: 10.602, MAE: 2.01, time: 0.88911390\n",
      "Epoch 067: Loss: 10.599, MAE: 2.01, time: 0.74174571\n",
      "Epoch 068: Loss: 10.596, MAE: 2.01, time: 0.90985084\n",
      "Epoch 069: Loss: 10.592, MAE: 2.01, time: 0.67849708\n",
      "Epoch 070: Loss: 10.589, MAE: 2.01, time: 0.78417373\n",
      "Epoch 071: Loss: 10.586, MAE: 2.01, time: 0.68484426\n",
      "Epoch 072: Loss: 10.583, MAE: 2.01, time: 0.89206910\n",
      "Epoch 073: Loss: 10.580, MAE: 2.01, time: 0.84632206\n",
      "Epoch 074: Loss: 10.576, MAE: 2.01, time: 1.08796024\n",
      "Epoch 075: Loss: 10.573, MAE: 2.01, time: 0.81122732\n",
      "Epoch 076: Loss: 10.570, MAE: 2.01, time: 0.86628389\n",
      "Epoch 077: Loss: 10.567, MAE: 2.01, time: 0.94426608\n",
      "Epoch 078: Loss: 10.564, MAE: 2.01, time: 0.83190513\n",
      "Epoch 079: Loss: 10.561, MAE: 2.01, time: 0.77823377\n",
      "Epoch 080: Loss: 10.558, MAE: 2.01, time: 0.78101110\n",
      "Epoch 081: Loss: 10.554, MAE: 2.01, time: 0.88022065\n",
      "Epoch 082: Loss: 10.551, MAE: 2.01, time: 0.78982139\n",
      "Epoch 083: Loss: 10.548, MAE: 2.01, time: 0.88539791\n",
      "Epoch 084: Loss: 10.545, MAE: 2.01, time: 0.88140273\n",
      "Epoch 085: Loss: 10.542, MAE: 2.01, time: 0.75974107\n",
      "Epoch 086: Loss: 10.539, MAE: 2.01, time: 0.78401995\n",
      "Epoch 087: Loss: 10.536, MAE: 2.01, time: 0.73152184\n",
      "Epoch 088: Loss: 10.533, MAE: 2.01, time: 0.79584312\n",
      "Epoch 089: Loss: 10.530, MAE: 2.01, time: 0.72692204\n",
      "Epoch 090: Loss: 10.527, MAE: 2.01, time: 0.84638286\n",
      "Epoch 091: Loss: 10.524, MAE: 2.01, time: 0.86351705\n",
      "Epoch 092: Loss: 10.521, MAE: 2.01, time: 0.72037768\n",
      "Epoch 093: Loss: 10.518, MAE: 2.01, time: 0.92024660\n",
      "Epoch 094: Loss: 10.515, MAE: 2.01, time: 0.81127024\n",
      "Epoch 095: Loss: 10.512, MAE: 2.01, time: 0.73375702\n",
      "Epoch 096: Loss: 10.509, MAE: 2.01, time: 0.81726933\n",
      "Epoch 097: Loss: 10.506, MAE: 2.01, time: 0.90250540\n",
      "Epoch 098: Loss: 10.503, MAE: 2.01, time: 0.81443810\n",
      "Epoch 099: Loss: 10.500, MAE: 2.01, time: 0.78056836\n"
     ]
    }
   ],
   "source": [
    "## Note: Rerunning this cell uses the same model variables\n",
    "\n",
    "# Keep results for plotting\n",
    "train_loss_results = []\n",
    "train_accuracy_results = []\n",
    "num_epochs = 100\n",
    "import time\n",
    "for epoch in range(num_epochs):\n",
    "  start = time.time()\n",
    "  epoch_loss_avg = tf.keras.metrics.Mean()\n",
    "  epoch_accuracy = tf.keras.metrics.MeanAbsoluteError()\n",
    "\n",
    "  # Training loop - using batches of 32\n",
    "  for x, y in train_dataset:\n",
    "    # Optimize the model\n",
    "    loss_value, grads = grad(model, x, y)\n",
    "    optimizer.apply_gradients(zip(grads, model.trainable_variables))\n",
    "\n",
    "    # Track progress\n",
    "    epoch_loss_avg.update_state(loss_value)  # Add current batch loss\n",
    "    # Compare predicted label to actual label\n",
    "    # training=True is needed only if there are layers with different\n",
    "    # behavior during training versus inference (e.g. Dropout).\n",
    "    predictions = model(x, training=True)\n",
    "    #new_y = get_new_y(predictions, y)\n",
    "    epoch_accuracy.update_state(y, predictions)\n",
    "\n",
    "  # End epoch\n",
    "  train_loss_results.append(epoch_loss_avg.result())\n",
    "  train_accuracy_results.append(epoch_accuracy.result())\n",
    "  end = time.time()\n",
    "  print(\"Epoch {:03d}: Loss: {:.3f}, MAE: {:.3}, time: {:.8f}\".format(epoch,epoch_loss_avg.result(),epoch_accuracy.result(), end - start))"
   ]
  },
  {
   "cell_type": "code",
   "execution_count": 38,
   "metadata": {},
   "outputs": [
    {
     "output_type": "stream",
     "name": "stdout",
     "text": "Should be low\n0.7402869\n0.4161326\nShould be higher\n0.6740105\n0.5865265\n"
    }
   ],
   "source": [
    "a = train_preprocessor.vectorize(\"Teiglinge nach der Stückgare\")\n",
    "b = train_preprocessor.vectorize(\"Das Gerät wird gleichzeitig gezogen oder vom Traktor getragen und über die Zapfwelle oder hydraulisch angetrieben\")\n",
    "c = train_preprocessor.vectorize(\"Portionsstücke werden abgeteilt; der Teig wird „ausgebrochen“\")\n",
    "d = train_preprocessor.vectorize(\"Für aktuelle Landtechnik sind die führenden Zeitschriften:\")\n",
    "\n",
    "a = train_preprocessor.vectorize(\"Brot ist ein leckeres im Ofen gebackenes Rezept\")\n",
    "b = train_preprocessor.vectorize(\"In der Landwirdschaft gibt es viele Traktoren\")\n",
    "c = train_preprocessor.vectorize(\"Lecker sind z.B. Roggenbrot oder Walnussbrötchen\")\n",
    "d = train_preprocessor.vectorize(\"Viele Bauern leben neben ihren Garagen um leicht ihre Zylinder reinigen zu können\")\n",
    "\n",
    "a = train_preprocessor.vectorize(\"Der Brauch, Brot und Salz etwa zum Bezug einer neuen Wohnung oder zur Hochzeit zu schenken, soll Wohlstand sichern.\")\n",
    "b = train_preprocessor.vectorize(\"Die zunehmende Sammelleidenschaft für historische Landmaschinen in der Bevölkerung zog auch die Ausgabe diverser Fachzeitschriften nach sich, die nach langer Dominanz klassischer Vereinsnachrichten den Markt um professionelle journalistische Produkte bereicherten. Diese Publikationen sind meist im Bahnhofsbuchhandel erhältlich. Sie informieren im Zeitschriftenformat und in Farbe über Restaurierungsprojekte, Vereinsaktivitäten, Schleppertreffen und vieles mehr.\")\n",
    "c = train_preprocessor.vectorize(\"„Brot wird ganz oder teilweise aus Getreide und/oder Getreideerzeugnissen, meist nach Zugabe von Flüssigkeit, sowie von anderen Lebensmitteln (z. B. Leguminosen-, Kartoffelerzeugnisse) in der Regel durch Kneten, Formen, Lockern, Backen oder Heißextrudieren des Brotteiges hergestellt. Brot enthält weniger als 10 Gewichtsteile Fett und/oder Zuckerarten auf 90 Gewichtsteile Getreide und/oder Getreideerzeugnisse.\")\n",
    "d = train_preprocessor.vectorize(\"Um Unfälle mit landwirtschaftlichen Zugmaschinen abzuschwächen oder ganz zu vermeiden, empfiehlt die UDV eine bessere Schulung junger Traktorfahrer. Ferner sollten alle Verkehrsteilnehmer besser über das besondere Unfallrisiko mit Schleppern aufgeklärt werden. Das Signalbild von Traktoren mit und ohne Anhänger müsse verbessert werden, beispielsweise durch die Zulassung von Rundum-Leuchten, Reflexfolien, Begrenzungsleuchten und Konturmarkierungen. Heckleuchten und Blinker sollten sowohl größer als auch stabiler sein.\")\n",
    "\n",
    "trained = model(tf.constant([a,b,c,d]), training=False)\n",
    "\n",
    "diff1 = np.linalg.norm(trained[0]-trained[2])\n",
    "diff2 = np.linalg.norm(trained[1]-trained[3])\n",
    "diff3 = np.linalg.norm(trained[0]-trained[3])\n",
    "diff4 = np.linalg.norm(trained[1]-trained[2])\n",
    "\n",
    "print(\"Should be low\")\n",
    "print(diff1)\n",
    "print(diff2)\n",
    "\n",
    "print(\"Should be higher\")\n",
    "print(diff3)\n",
    "print(diff4)"
   ]
  },
  {
   "cell_type": "code",
   "execution_count": 4,
   "metadata": {},
   "outputs": [],
   "source": [
    "a = train_preprocessor.vectorize(\"Der Brauch, Brot und Salz etwa zum Bezug einer neuen Wohnung oder zur Hochzeit zu schenken, soll Wohlstand sichern.\")\n",
    "b = train_preprocessor.vectorize(\"Die zunehmende Sammelleidenschaft für historische Landmaschinen in der Bevölkerung zog auch die Ausgabe diverser Fachzeitschriften nach sich, die nach langer Dominanz klassischer Vereinsnachrichten den Markt um professionelle journalistische Produkte bereicherten. Diese Publikationen sind meist im Bahnhofsbuchhandel erhältlich. Sie informieren im Zeitschriftenformat und in Farbe über Restaurierungsprojekte, Vereinsaktivitäten, Schleppertreffen und vieles mehr.\")\n",
    "c = train_preprocessor.vectorize(\"„Brot wird ganz oder teilweise aus Getreide und/oder Getreideerzeugnissen, meist nach Zugabe von Flüssigkeit, sowie von anderen Lebensmitteln (z. B. Leguminosen-, Kartoffelerzeugnisse) in der Regel durch Kneten, Formen, Lockern, Backen oder Heißextrudieren des Brotteiges hergestellt. Brot enthält weniger als 10 Gewichtsteile Fett und/oder Zuckerarten auf 90 Gewichtsteile Getreide und/oder Getreideerzeugnisse.\")\n",
    "d = train_preprocessor.vectorize(\"Um Unfälle mit landwirtschaftlichen Zugmaschinen abzuschwächen oder ganz zu vermeiden, empfiehlt die UDV eine bessere Schulung junger Traktorfahrer. Ferner sollten alle Verkehrsteilnehmer besser über das besondere Unfallrisiko mit Schleppern aufgeklärt werden. Das Signalbild von Traktoren mit und ohne Anhänger müsse verbessert werden, beispielsweise durch die Zulassung von Rundum-Leuchten, Reflexfolien, Begrenzungsleuchten und Konturmarkierungen. Heckleuchten und Blinker sollten sowohl größer als auch stabiler sein.\")"
   ]
  },
  {
   "cell_type": "code",
   "execution_count": 25,
   "metadata": {},
   "outputs": [
    {
     "output_type": "stream",
     "name": "stdout",
     "text": [
      "Original distances\n\nShould be low\n1.0\n0.54048246\nShould be higher\n0.6637904\n0.85073495\n"
     ]
    }
   ],
   "source": [
    "original_diff1 = np.linalg.norm(a-c)\n",
    "original_diff2 = np.linalg.norm(b-d)\n",
    "original_diff3 = np.linalg.norm(a-d)\n",
    "original_diff4 = np.linalg.norm(b-c)\n",
    "\n",
    "max_val = max(original_diff1,original_diff2,original_diff3,original_diff4)\n",
    "\n",
    "print(\"Original distances\\n\")\n",
    "print(\"Should be low\")\n",
    "print(((original_diff1)/max_val))\n",
    "print(((original_diff2)/max_val))\n",
    "\n",
    "print(\"Should be higher\")\n",
    "print(((original_diff3)/max_val))\n",
    "print(((original_diff4)/max_val))"
   ]
  },
  {
   "cell_type": "code",
   "execution_count": 15,
   "metadata": {},
   "outputs": [
    {
     "output_type": "stream",
     "name": "stdout",
     "text": [
      "Should be low\n1.0\n0.5621234145842646\nShould be higher\n0.9104720075419408\n0.7922962029991345\n"
     ]
    }
   ],
   "source": [
    "_max_val = 0.7402869\n",
    "\n",
    "print('Should be low')\n",
    "print((0.7402869/_max_val))\n",
    "print((0.4161326/_max_val))\n",
    "print('Should be higher')\n",
    "print((0.6740105/_max_val))\n",
    "print((0.5865265/_max_val))"
   ]
  }
 ],
 "metadata": {
  "language_info": {
   "codemirror_mode": {
    "name": "ipython",
    "version": 3
   },
   "file_extension": ".py",
   "mimetype": "text/x-python",
   "name": "python",
   "nbconvert_exporter": "python",
   "pygments_lexer": "ipython3",
   "version": "3.6.9-final"
  },
  "orig_nbformat": 2,
  "kernelspec": {
   "name": "python3",
   "display_name": "Python 3",
   "language": "python"
  }
 },
 "nbformat": 4,
 "nbformat_minor": 2
}